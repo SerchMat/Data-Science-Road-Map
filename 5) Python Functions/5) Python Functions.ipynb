{
 "cells": [
  {
   "cell_type": "markdown",
   "id": "b4418c97",
   "metadata": {},
   "source": [
    "## Definiting s Function in Python"
   ]
  },
  {
   "cell_type": "code",
   "execution_count": 2,
   "id": "2c3a51d8",
   "metadata": {},
   "outputs": [],
   "source": [
    "def simple():\n",
    "    print(\"My first fuction\")"
   ]
  },
  {
   "cell_type": "code",
   "execution_count": 3,
   "id": "93849ed2",
   "metadata": {},
   "outputs": [
    {
     "name": "stdout",
     "output_type": "stream",
     "text": [
      "My first fuction\n"
     ]
    }
   ],
   "source": [
    "simple()"
   ]
  },
  {
   "cell_type": "markdown",
   "id": "135b381b",
   "metadata": {},
   "source": [
    "## Creating a Function with a Parameter"
   ]
  },
  {
   "cell_type": "code",
   "execution_count": 4,
   "id": "3078922c",
   "metadata": {},
   "outputs": [],
   "source": [
    "def plus_ten(a): ## a is the argument\n",
    "    return a + 10"
   ]
  },
  {
   "cell_type": "code",
   "execution_count": 5,
   "id": "5c9ed9e7",
   "metadata": {},
   "outputs": [
    {
     "data": {
      "text/plain": [
       "22"
      ]
     },
     "execution_count": 5,
     "metadata": {},
     "output_type": "execute_result"
    }
   ],
   "source": [
    "plus_ten(12)"
   ]
  },
  {
   "cell_type": "code",
   "execution_count": 6,
   "id": "b187a7e5",
   "metadata": {},
   "outputs": [
    {
     "data": {
      "text/plain": [
       "15"
      ]
     },
     "execution_count": 6,
     "metadata": {},
     "output_type": "execute_result"
    }
   ],
   "source": [
    "plus_ten(5)"
   ]
  },
  {
   "cell_type": "markdown",
   "id": "0504de98",
   "metadata": {},
   "source": [
    "## Another Way to Define a Function"
   ]
  },
  {
   "cell_type": "code",
   "execution_count": 11,
   "id": "228fe226",
   "metadata": {},
   "outputs": [],
   "source": [
    "def plus_ten(a):\n",
    "    result = a + 10\n",
    "    return result"
   ]
  },
  {
   "cell_type": "code",
   "execution_count": 12,
   "id": "c64ec0e9",
   "metadata": {},
   "outputs": [
    {
     "data": {
      "text/plain": [
       "12"
      ]
     },
     "execution_count": 12,
     "metadata": {},
     "output_type": "execute_result"
    }
   ],
   "source": [
    "plus_ten(2)"
   ]
  },
  {
   "cell_type": "code",
   "execution_count": 13,
   "id": "82107d65",
   "metadata": {},
   "outputs": [],
   "source": [
    "def plus_ten(a):\n",
    "    result = a + 10\n",
    "    print(\"Outcome\")\n",
    "    return result"
   ]
  },
  {
   "cell_type": "code",
   "execution_count": 14,
   "id": "f3d17b02",
   "metadata": {},
   "outputs": [
    {
     "name": "stdout",
     "output_type": "stream",
     "text": [
      "Outcome\n"
     ]
    },
    {
     "data": {
      "text/plain": [
       "12"
      ]
     },
     "execution_count": 14,
     "metadata": {},
     "output_type": "execute_result"
    }
   ],
   "source": [
    "plus_ten(2)"
   ]
  },
  {
   "cell_type": "markdown",
   "id": "4ac84845",
   "metadata": {},
   "source": [
    "## Using a funtion in another Function"
   ]
  },
  {
   "cell_type": "code",
   "execution_count": 15,
   "id": "71cdb4f4",
   "metadata": {},
   "outputs": [],
   "source": [
    "def wage(w_hours):\n",
    "    return w_hours * 25\n",
    "\n",
    "def with_bonus(w_hours):\n",
    "    return wage(w_hours) + 50"
   ]
  },
  {
   "cell_type": "code",
   "execution_count": 16,
   "id": "752c5614",
   "metadata": {},
   "outputs": [
    {
     "data": {
      "text/plain": [
       "(200, 250)"
      ]
     },
     "execution_count": 16,
     "metadata": {},
     "output_type": "execute_result"
    }
   ],
   "source": [
    "wage(8), with_bonus(8)"
   ]
  },
  {
   "cell_type": "code",
   "execution_count": 18,
   "id": "45c3337c",
   "metadata": {},
   "outputs": [],
   "source": [
    "def plus_five(x):\n",
    "    return x + 5\n",
    "\n",
    "def m_by_3(x):\n",
    "    return plus_five(x) * 3\n",
    "  "
   ]
  },
  {
   "cell_type": "code",
   "execution_count": 20,
   "id": "9b4e3fd3",
   "metadata": {},
   "outputs": [
    {
     "data": {
      "text/plain": [
       "(10, 30)"
      ]
     },
     "execution_count": 20,
     "metadata": {},
     "output_type": "execute_result"
    }
   ],
   "source": [
    "plus_five(5), m_by_3(5)"
   ]
  },
  {
   "cell_type": "markdown",
   "id": "4df029af",
   "metadata": {},
   "source": [
    "## Combining Conditional Satatements and Functions"
   ]
  },
  {
   "cell_type": "code",
   "execution_count": 22,
   "id": "e5595771",
   "metadata": {},
   "outputs": [],
   "source": [
    "def add_10(m):\n",
    "    if m >= 100:\n",
    "        m = m + 10\n",
    "        return m\n",
    "    else:\n",
    "        return \"Save more!\""
   ]
  },
  {
   "cell_type": "code",
   "execution_count": 23,
   "id": "e66fc002",
   "metadata": {},
   "outputs": [
    {
     "data": {
      "text/plain": [
       "115"
      ]
     },
     "execution_count": 23,
     "metadata": {},
     "output_type": "execute_result"
    }
   ],
   "source": [
    "add_10(105)"
   ]
  },
  {
   "cell_type": "code",
   "execution_count": 24,
   "id": "6cfdabf7",
   "metadata": {},
   "outputs": [
    {
     "data": {
      "text/plain": [
       "'Save more!'"
      ]
     },
     "execution_count": 24,
     "metadata": {},
     "output_type": "execute_result"
    }
   ],
   "source": [
    "add_10(10)"
   ]
  },
  {
   "cell_type": "markdown",
   "id": "22fd4371",
   "metadata": {},
   "source": [
    "## Creating Functions Containing a Few Arguments"
   ]
  },
  {
   "cell_type": "code",
   "execution_count": 27,
   "id": "23b5c9b3",
   "metadata": {},
   "outputs": [],
   "source": [
    "def subtract_bc(a,b,c):\n",
    "    result = a - b * c\n",
    "    print('Parameter a equal', a)\n",
    "    print('Parameter b equal', b)\n",
    "    print('Parameter c equal', c)\n",
    "    return result"
   ]
  },
  {
   "cell_type": "code",
   "execution_count": 28,
   "id": "e91c9471",
   "metadata": {},
   "outputs": [
    {
     "name": "stdout",
     "output_type": "stream",
     "text": [
      "Parameter a equal 10\n",
      "Parameter b equal 3\n",
      "Parameter c equal 2\n"
     ]
    },
    {
     "data": {
      "text/plain": [
       "4"
      ]
     },
     "execution_count": 28,
     "metadata": {},
     "output_type": "execute_result"
    }
   ],
   "source": [
    "subtract_bc(10,3,2)"
   ]
  },
  {
   "cell_type": "code",
   "execution_count": 30,
   "id": "fab76920",
   "metadata": {},
   "outputs": [
    {
     "name": "stdout",
     "output_type": "stream",
     "text": [
      "Parameter a equal 10\n",
      "Parameter b equal 3\n",
      "Parameter c equal 2\n"
     ]
    },
    {
     "data": {
      "text/plain": [
       "4"
      ]
     },
     "execution_count": 30,
     "metadata": {},
     "output_type": "execute_result"
    }
   ],
   "source": [
    "subtract_bc(b=3,a=10,c=2)"
   ]
  },
  {
   "cell_type": "markdown",
   "id": "d297f837",
   "metadata": {},
   "source": [
    "## Natable Built-In Functions in Python"
   ]
  },
  {
   "cell_type": "code",
   "execution_count": 31,
   "id": "3830436c",
   "metadata": {},
   "outputs": [
    {
     "data": {
      "text/plain": [
       "int"
      ]
     },
     "execution_count": 31,
     "metadata": {},
     "output_type": "execute_result"
    }
   ],
   "source": [
    "type(10)"
   ]
  },
  {
   "cell_type": "code",
   "execution_count": 32,
   "id": "3c315efa",
   "metadata": {},
   "outputs": [
    {
     "data": {
      "text/plain": [
       "3.0"
      ]
     },
     "execution_count": 32,
     "metadata": {},
     "output_type": "execute_result"
    }
   ],
   "source": [
    "float(3)"
   ]
  },
  {
   "cell_type": "code",
   "execution_count": 33,
   "id": "d266aadc",
   "metadata": {},
   "outputs": [
    {
     "data": {
      "text/plain": [
       "'500'"
      ]
     },
     "execution_count": 33,
     "metadata": {},
     "output_type": "execute_result"
    }
   ],
   "source": [
    "str(500)"
   ]
  },
  {
   "cell_type": "code",
   "execution_count": 34,
   "id": "90abef68",
   "metadata": {},
   "outputs": [
    {
     "data": {
      "text/plain": [
       "30"
      ]
     },
     "execution_count": 34,
     "metadata": {},
     "output_type": "execute_result"
    }
   ],
   "source": [
    "max(10,20,30)"
   ]
  },
  {
   "cell_type": "code",
   "execution_count": 35,
   "id": "130e503d",
   "metadata": {},
   "outputs": [
    {
     "data": {
      "text/plain": [
       "10"
      ]
     },
     "execution_count": 35,
     "metadata": {},
     "output_type": "execute_result"
    }
   ],
   "source": [
    "min(10,20,30)"
   ]
  },
  {
   "cell_type": "code",
   "execution_count": 36,
   "id": "059edaad",
   "metadata": {},
   "outputs": [
    {
     "data": {
      "text/plain": [
       "20"
      ]
     },
     "execution_count": 36,
     "metadata": {},
     "output_type": "execute_result"
    }
   ],
   "source": [
    "z = -20\n",
    "abs(z)"
   ]
  },
  {
   "cell_type": "code",
   "execution_count": 38,
   "id": "380ea646",
   "metadata": {},
   "outputs": [],
   "source": [
    "list_1 = [1,2,3,4]"
   ]
  },
  {
   "cell_type": "code",
   "execution_count": 39,
   "id": "83449a3a",
   "metadata": {},
   "outputs": [
    {
     "data": {
      "text/plain": [
       "10"
      ]
     },
     "execution_count": 39,
     "metadata": {},
     "output_type": "execute_result"
    }
   ],
   "source": [
    "sum(list_1)"
   ]
  },
  {
   "cell_type": "code",
   "execution_count": 40,
   "id": "1e603f61",
   "metadata": {},
   "outputs": [
    {
     "data": {
      "text/plain": [
       "3.56"
      ]
     },
     "execution_count": 40,
     "metadata": {},
     "output_type": "execute_result"
    }
   ],
   "source": [
    "round(3.555,2)"
   ]
  },
  {
   "cell_type": "code",
   "execution_count": 41,
   "id": "41d2fc63",
   "metadata": {},
   "outputs": [
    {
     "data": {
      "text/plain": [
       "3"
      ]
     },
     "execution_count": 41,
     "metadata": {},
     "output_type": "execute_result"
    }
   ],
   "source": [
    "round(3.2)"
   ]
  },
  {
   "cell_type": "code",
   "execution_count": 42,
   "id": "1bdc4e49",
   "metadata": {},
   "outputs": [
    {
     "data": {
      "text/plain": [
       "1024"
      ]
     },
     "execution_count": 42,
     "metadata": {},
     "output_type": "execute_result"
    }
   ],
   "source": [
    "pow(2,10)"
   ]
  },
  {
   "cell_type": "code",
   "execution_count": 43,
   "id": "0b71281e",
   "metadata": {},
   "outputs": [
    {
     "data": {
      "text/plain": [
       "11"
      ]
     },
     "execution_count": 43,
     "metadata": {},
     "output_type": "execute_result"
    }
   ],
   "source": [
    "len('Mathematics')"
   ]
  },
  {
   "cell_type": "code",
   "execution_count": 62,
   "id": "3ad62652",
   "metadata": {},
   "outputs": [],
   "source": [
    "def distance_from_zero(x):\n",
    "    if type(x) == str:\n",
    "        print(\"Not possible\")\n",
    "    else:\n",
    "        return abs(x)"
   ]
  },
  {
   "cell_type": "code",
   "execution_count": 63,
   "id": "c47ce585",
   "metadata": {},
   "outputs": [
    {
     "name": "stdout",
     "output_type": "stream",
     "text": [
      "Not possible\n"
     ]
    }
   ],
   "source": [
    "distance_from_zero(\"cat\")"
   ]
  },
  {
   "cell_type": "code",
   "execution_count": 64,
   "id": "dbab175c",
   "metadata": {},
   "outputs": [
    {
     "data": {
      "text/plain": [
       "10"
      ]
     },
     "execution_count": 64,
     "metadata": {},
     "output_type": "execute_result"
    }
   ],
   "source": [
    "distance_from_zero(-10)"
   ]
  }
 ],
 "metadata": {
  "kernelspec": {
   "display_name": "Python 3 (ipykernel)",
   "language": "python",
   "name": "python3"
  },
  "language_info": {
   "codemirror_mode": {
    "name": "ipython",
    "version": 3
   },
   "file_extension": ".py",
   "mimetype": "text/x-python",
   "name": "python",
   "nbconvert_exporter": "python",
   "pygments_lexer": "ipython3",
   "version": "3.9.7"
  }
 },
 "nbformat": 4,
 "nbformat_minor": 5
}
