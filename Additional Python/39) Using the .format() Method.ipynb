{
 "cells": [
  {
   "cell_type": "code",
   "execution_count": 1,
   "id": "efe2861b",
   "metadata": {},
   "outputs": [
    {
     "data": {
      "text/plain": [
       "(1, 3, 12)"
      ]
     },
     "execution_count": 1,
     "metadata": {},
     "output_type": "execute_result"
    }
   ],
   "source": [
    "time_horizon = 1, 3, 12\n",
    "time_horizon"
   ]
  },
  {
   "cell_type": "code",
   "execution_count": 2,
   "id": "9d5da414",
   "metadata": {},
   "outputs": [
    {
     "data": {
      "text/plain": [
       "['Product A', 'Product B']"
      ]
     },
     "execution_count": 2,
     "metadata": {},
     "output_type": "execute_result"
    }
   ],
   "source": [
    "products = ['Product A', 'Product B']\n",
    "products"
   ]
  },
  {
   "cell_type": "markdown",
   "id": "da8bd412",
   "metadata": {},
   "source": [
    "{ } are placeholders where we will insert the values that have been passed as arguments of the .format() methos"
   ]
  },
  {
   "cell_type": "code",
   "execution_count": 3,
   "id": "84459866",
   "metadata": {},
   "outputs": [
    {
     "data": {
      "text/plain": [
       "'Expected sales for a period of 12 month(s) for Product B:'"
      ]
     },
     "execution_count": 3,
     "metadata": {},
     "output_type": "execute_result"
    }
   ],
   "source": [
    "'Expected sales for a period of {} month(s) for {}:'.format(12, 'Product B')"
   ]
  },
  {
   "cell_type": "code",
   "execution_count": 4,
   "id": "ca4651f3",
   "metadata": {},
   "outputs": [
    {
     "data": {
      "text/plain": [
       "\"Expected sales for a period of (1, 3, 12) month(s) for ['Product A', 'Product B']:\""
      ]
     },
     "execution_count": 4,
     "metadata": {},
     "output_type": "execute_result"
    }
   ],
   "source": [
    "'Expected sales for a period of {} month(s) for {}:'.format(time_horizon, products)"
   ]
  },
  {
   "cell_type": "code",
   "execution_count": 5,
   "id": "397ed5e7",
   "metadata": {},
   "outputs": [
    {
     "data": {
      "text/plain": [
       "'Expected sales for a period of 12 month(s) for Product B:'"
      ]
     },
     "execution_count": 5,
     "metadata": {},
     "output_type": "execute_result"
    }
   ],
   "source": [
    "'Expected sales for a period of {} month(s) for {}:'.format(time_horizon[2], products[1])"
   ]
  },
  {
   "cell_type": "markdown",
   "id": "eafd577a",
   "metadata": {},
   "source": [
    "Parameters"
   ]
  },
  {
   "cell_type": "code",
   "execution_count": 6,
   "id": "b202b023",
   "metadata": {},
   "outputs": [
    {
     "data": {
      "text/plain": [
       "'Expected sales for a period of 12 month(s) for Product B:'"
      ]
     },
     "execution_count": 6,
     "metadata": {},
     "output_type": "execute_result"
    }
   ],
   "source": [
    "'Expected sales for a period of {0} month(s) for {1}:'.format(time_horizon[2], products[1])"
   ]
  },
  {
   "cell_type": "markdown",
   "id": "0022d65b",
   "metadata": {},
   "source": [
    "Swicth index values between the holders"
   ]
  },
  {
   "cell_type": "code",
   "execution_count": 7,
   "id": "b7b07343",
   "metadata": {},
   "outputs": [
    {
     "data": {
      "text/plain": [
       "'Expected sales for a period of Product B month(s) for 12:'"
      ]
     },
     "execution_count": 7,
     "metadata": {},
     "output_type": "execute_result"
    }
   ],
   "source": [
    "'Expected sales for a period of {1} month(s) for {0}:'.format(time_horizon[2], products[1])"
   ]
  },
  {
   "cell_type": "markdown",
   "id": "d7d92b41",
   "metadata": {},
   "source": [
    "Using key word arguments"
   ]
  },
  {
   "cell_type": "code",
   "execution_count": 8,
   "id": "f8a889d9",
   "metadata": {},
   "outputs": [
    {
     "data": {
      "text/plain": [
       "'Expected sales for a period of 12 month(s) for Proeduct B:'"
      ]
     },
     "execution_count": 8,
     "metadata": {},
     "output_type": "execute_result"
    }
   ],
   "source": [
    "'Expected sales for a period of {t_hor} month(s) for {prod}:'.format(t_hor = 12, prod = 'Proeduct B')"
   ]
  },
  {
   "cell_type": "markdown",
   "id": "5c99009c",
   "metadata": {},
   "source": [
    "The values of an argument can also be a list"
   ]
  },
  {
   "cell_type": "code",
   "execution_count": 9,
   "id": "78cf9f14",
   "metadata": {},
   "outputs": [
    {
     "data": {
      "text/plain": [
       "\"Expected sales for a period of 12 month(s) for ['Product A', 'Product B']:\""
      ]
     },
     "execution_count": 9,
     "metadata": {},
     "output_type": "execute_result"
    }
   ],
   "source": [
    "'Expected sales for a period of {t_hor} month(s) for {prod}:'.format(t_hor = 12, prod = ['Product A', 'Product B'])"
   ]
  },
  {
   "cell_type": "code",
   "execution_count": 10,
   "id": "ad9caac3",
   "metadata": {},
   "outputs": [
    {
     "data": {
      "text/plain": [
       "'Expected sales for a period of 12 month(s) for Product B:'"
      ]
     },
     "execution_count": 10,
     "metadata": {},
     "output_type": "execute_result"
    }
   ],
   "source": [
    "'Expected sales for a period of {t_hor} month(s) for {prod[1]}:'.format(t_hor = 12, prod = ['Product A', 'Product B'])"
   ]
  },
  {
   "cell_type": "code",
   "execution_count": 11,
   "id": "d6e5f01c",
   "metadata": {},
   "outputs": [
    {
     "data": {
      "text/plain": [
       "'Expected sales for a period of 12 month(s) for Product B:'"
      ]
     },
     "execution_count": 11,
     "metadata": {},
     "output_type": "execute_result"
    }
   ],
   "source": [
    "'Expected sales for a period of {t_hor[2]} month(s) for {prod[1]}:'.format(t_hor = time_horizon, prod = products)"
   ]
  },
  {
   "cell_type": "markdown",
   "id": "7ac3559d",
   "metadata": {},
   "source": [
    "Precise value of the expected sell in dollar"
   ]
  },
  {
   "cell_type": "code",
   "execution_count": 12,
   "id": "48974097",
   "metadata": {},
   "outputs": [
    {
     "data": {
      "text/plain": [
       "'Expected sales for a period of 12 month(s) for Product B: $10000'"
      ]
     },
     "execution_count": 12,
     "metadata": {},
     "output_type": "execute_result"
    }
   ],
   "source": [
    "'Expected sales for a period of {t_hor} month(s) for {prod[1]}: ${sales}'.format(t_hor = 12, prod = products, sales = 10000)"
   ]
  },
  {
   "cell_type": "markdown",
   "id": "ab7bada9",
   "metadata": {},
   "source": [
    "Use values and keys as the same time"
   ]
  },
  {
   "cell_type": "code",
   "execution_count": 13,
   "id": "e8f6f10a",
   "metadata": {},
   "outputs": [
    {
     "data": {
      "text/plain": [
       "'Expected sales for a period of 12 month(s) for Product B: $10000'"
      ]
     },
     "execution_count": 13,
     "metadata": {},
     "output_type": "execute_result"
    }
   ],
   "source": [
    "'Expected sales for a period of {0} month(s) for {prod[1]}: ${sales}'.format(12, prod = products, sales = 10000)"
   ]
  }
 ],
 "metadata": {
  "kernelspec": {
   "display_name": "Python 3 (ipykernel)",
   "language": "python",
   "name": "python3"
  },
  "language_info": {
   "codemirror_mode": {
    "name": "ipython",
    "version": 3
   },
   "file_extension": ".py",
   "mimetype": "text/x-python",
   "name": "python",
   "nbconvert_exporter": "python",
   "pygments_lexer": "ipython3",
   "version": "3.9.7"
  }
 },
 "nbformat": 4,
 "nbformat_minor": 5
}
