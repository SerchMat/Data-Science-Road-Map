{
 "cells": [
  {
   "cell_type": "markdown",
   "id": "8d5ed6a8",
   "metadata": {},
   "source": [
    "# Simple Linear Regression. Minimal Example"
   ]
  },
  {
   "cell_type": "markdown",
   "id": "8c2c06de",
   "metadata": {},
   "source": [
    "## Import the relevant libraries"
   ]
  },
  {
   "cell_type": "code",
   "execution_count": 1,
   "id": "efefc2ff",
   "metadata": {},
   "outputs": [],
   "source": [
    "import numpy as np\n",
    "import matplotlib.pyplot as plt\n",
    "from mpl_toolkits.mplot3d import Axes3D"
   ]
  },
  {
   "cell_type": "markdown",
   "id": "926ae29c",
   "metadata": {},
   "source": [
    "## Generate random input data to train on"
   ]
  },
  {
   "cell_type": "code",
   "execution_count": 2,
   "id": "6e0b2dde",
   "metadata": {},
   "outputs": [
    {
     "name": "stdout",
     "output_type": "stream",
     "text": [
      "(1000, 2)\n"
     ]
    }
   ],
   "source": [
    "observations = 1000\n",
    "\n",
    "#np.random.uniform(low,high,size) draws a random value from the interval(low,high), where each number has an equal chance to be selected\n",
    "xs = np.random.uniform(low=-10,high=10,size=(observations,1))\n",
    "zs = np.random.uniform(-10,10,(observations,1))\n",
    "\n",
    "# Combination\n",
    "\n",
    "# np.column_stack(appropiate tuples)takes a sequence of 1D arrays and stack them into a single 2D array\n",
    "inputs = np.column_stack((xs,zs))\n",
    "\n",
    "print(inputs.shape)"
   ]
  },
  {
   "cell_type": "markdown",
   "id": "76bb25e8",
   "metadata": {},
   "source": [
    "## Create the target we will aim at\n",
    "\n",
    "The point is to see that there is a strong trend that our model should learn to reproduce."
   ]
  },
  {
   "cell_type": "code",
   "execution_count": 3,
   "id": "8ec6df33",
   "metadata": {},
   "outputs": [
    {
     "name": "stdout",
     "output_type": "stream",
     "text": [
      "(1000, 1)\n"
     ]
    }
   ],
   "source": [
    "noise = np.random.uniform(-1,1,(observations,1))\n",
    "\n",
    "targets = 2*xs - 3*zs + 5 + noise\n",
    "\n",
    "print(targets.shape)"
   ]
  },
  {
   "cell_type": "markdown",
   "id": "3dc58436",
   "metadata": {},
   "source": [
    "## Plot the training data\n",
    "\n",
    "The point is to see that there is a strong trend that our model should learn to reproduce."
   ]
  },
  {
   "cell_type": "code",
   "execution_count": 4,
   "id": "d31900ca",
   "metadata": {},
   "outputs": [
    {
     "ename": "ValueError",
     "evalue": "operands could not be broadcast together with remapped shapes [original->remapped]: (1000,)  and requested shape (1000,1)",
     "output_type": "error",
     "traceback": [
      "\u001b[1;31m---------------------------------------------------------------------------\u001b[0m",
      "\u001b[1;31mValueError\u001b[0m                                Traceback (most recent call last)",
      "\u001b[1;32m~\\AppData\\Local\\Temp/ipykernel_42728/2402971392.py\u001b[0m in \u001b[0;36m<module>\u001b[1;34m\u001b[0m\n\u001b[0;32m      8\u001b[0m \u001b[1;33m\u001b[0m\u001b[0m\n\u001b[0;32m      9\u001b[0m \u001b[1;31m# Choose the axes.\u001b[0m\u001b[1;33m\u001b[0m\u001b[1;33m\u001b[0m\u001b[0m\n\u001b[1;32m---> 10\u001b[1;33m \u001b[0max\u001b[0m\u001b[1;33m.\u001b[0m\u001b[0mplot\u001b[0m\u001b[1;33m(\u001b[0m\u001b[0mxs\u001b[0m\u001b[1;33m,\u001b[0m \u001b[0mzs\u001b[0m\u001b[1;33m,\u001b[0m \u001b[0mtargets\u001b[0m\u001b[1;33m)\u001b[0m\u001b[1;33m\u001b[0m\u001b[1;33m\u001b[0m\u001b[0m\n\u001b[0m\u001b[0;32m     11\u001b[0m \u001b[1;33m\u001b[0m\u001b[0m\n\u001b[0;32m     12\u001b[0m \u001b[1;31m# Set labels\u001b[0m\u001b[1;33m\u001b[0m\u001b[1;33m\u001b[0m\u001b[0m\n",
      "\u001b[1;32m~\\anaconda3\\lib\\site-packages\\mpl_toolkits\\mplot3d\\axes3d.py\u001b[0m in \u001b[0;36mplot\u001b[1;34m(self, xs, ys, zdir, *args, **kwargs)\u001b[0m\n\u001b[0;32m   1568\u001b[0m \u001b[1;33m\u001b[0m\u001b[0m\n\u001b[0;32m   1569\u001b[0m         \u001b[1;31m# Match length\u001b[0m\u001b[1;33m\u001b[0m\u001b[1;33m\u001b[0m\u001b[0m\n\u001b[1;32m-> 1570\u001b[1;33m         \u001b[0mzs\u001b[0m \u001b[1;33m=\u001b[0m \u001b[0mnp\u001b[0m\u001b[1;33m.\u001b[0m\u001b[0mbroadcast_to\u001b[0m\u001b[1;33m(\u001b[0m\u001b[0mzs\u001b[0m\u001b[1;33m,\u001b[0m \u001b[0mnp\u001b[0m\u001b[1;33m.\u001b[0m\u001b[0mshape\u001b[0m\u001b[1;33m(\u001b[0m\u001b[0mxs\u001b[0m\u001b[1;33m)\u001b[0m\u001b[1;33m)\u001b[0m\u001b[1;33m\u001b[0m\u001b[1;33m\u001b[0m\u001b[0m\n\u001b[0m\u001b[0;32m   1571\u001b[0m \u001b[1;33m\u001b[0m\u001b[0m\n\u001b[0;32m   1572\u001b[0m         \u001b[0mlines\u001b[0m \u001b[1;33m=\u001b[0m \u001b[0msuper\u001b[0m\u001b[1;33m(\u001b[0m\u001b[1;33m)\u001b[0m\u001b[1;33m.\u001b[0m\u001b[0mplot\u001b[0m\u001b[1;33m(\u001b[0m\u001b[0mxs\u001b[0m\u001b[1;33m,\u001b[0m \u001b[0mys\u001b[0m\u001b[1;33m,\u001b[0m \u001b[1;33m*\u001b[0m\u001b[0margs\u001b[0m\u001b[1;33m,\u001b[0m \u001b[1;33m**\u001b[0m\u001b[0mkwargs\u001b[0m\u001b[1;33m)\u001b[0m\u001b[1;33m\u001b[0m\u001b[1;33m\u001b[0m\u001b[0m\n",
      "\u001b[1;32m<__array_function__ internals>\u001b[0m in \u001b[0;36mbroadcast_to\u001b[1;34m(*args, **kwargs)\u001b[0m\n",
      "\u001b[1;32m~\\anaconda3\\lib\\site-packages\\numpy\\lib\\stride_tricks.py\u001b[0m in \u001b[0;36mbroadcast_to\u001b[1;34m(array, shape, subok)\u001b[0m\n\u001b[0;32m    409\u001b[0m            [1, 2, 3]])\n\u001b[0;32m    410\u001b[0m     \"\"\"\n\u001b[1;32m--> 411\u001b[1;33m     \u001b[1;32mreturn\u001b[0m \u001b[0m_broadcast_to\u001b[0m\u001b[1;33m(\u001b[0m\u001b[0marray\u001b[0m\u001b[1;33m,\u001b[0m \u001b[0mshape\u001b[0m\u001b[1;33m,\u001b[0m \u001b[0msubok\u001b[0m\u001b[1;33m=\u001b[0m\u001b[0msubok\u001b[0m\u001b[1;33m,\u001b[0m \u001b[0mreadonly\u001b[0m\u001b[1;33m=\u001b[0m\u001b[1;32mTrue\u001b[0m\u001b[1;33m)\u001b[0m\u001b[1;33m\u001b[0m\u001b[1;33m\u001b[0m\u001b[0m\n\u001b[0m\u001b[0;32m    412\u001b[0m \u001b[1;33m\u001b[0m\u001b[0m\n\u001b[0;32m    413\u001b[0m \u001b[1;33m\u001b[0m\u001b[0m\n",
      "\u001b[1;32m~\\anaconda3\\lib\\site-packages\\numpy\\lib\\stride_tricks.py\u001b[0m in \u001b[0;36m_broadcast_to\u001b[1;34m(array, shape, subok, readonly)\u001b[0m\n\u001b[0;32m    346\u001b[0m                          'negative')\n\u001b[0;32m    347\u001b[0m     \u001b[0mextras\u001b[0m \u001b[1;33m=\u001b[0m \u001b[1;33m[\u001b[0m\u001b[1;33m]\u001b[0m\u001b[1;33m\u001b[0m\u001b[1;33m\u001b[0m\u001b[0m\n\u001b[1;32m--> 348\u001b[1;33m     it = np.nditer(\n\u001b[0m\u001b[0;32m    349\u001b[0m         \u001b[1;33m(\u001b[0m\u001b[0marray\u001b[0m\u001b[1;33m,\u001b[0m\u001b[1;33m)\u001b[0m\u001b[1;33m,\u001b[0m \u001b[0mflags\u001b[0m\u001b[1;33m=\u001b[0m\u001b[1;33m[\u001b[0m\u001b[1;34m'multi_index'\u001b[0m\u001b[1;33m,\u001b[0m \u001b[1;34m'refs_ok'\u001b[0m\u001b[1;33m,\u001b[0m \u001b[1;34m'zerosize_ok'\u001b[0m\u001b[1;33m]\u001b[0m \u001b[1;33m+\u001b[0m \u001b[0mextras\u001b[0m\u001b[1;33m,\u001b[0m\u001b[1;33m\u001b[0m\u001b[1;33m\u001b[0m\u001b[0m\n\u001b[0;32m    350\u001b[0m         op_flags=['readonly'], itershape=shape, order='C')\n",
      "\u001b[1;31mValueError\u001b[0m: operands could not be broadcast together with remapped shapes [original->remapped]: (1000,)  and requested shape (1000,1)"
     ]
    },
    {
     "data": {
      "image/png": "[encoded data removed]",
      "text/plain": [
       "<Figure size 432x288 with 1 Axes>"
      ]
     },
     "metadata": {
      "needs_background": "light"
     },
     "output_type": "display_data"
    }
   ],
   "source": [
    "targets = targets.reshape(observations,)\n",
    "\n",
    "# Declare the figure\n",
    "fig = plt.figure()\n",
    "\n",
    "# A method allowing us to create the 3D plot\n",
    "ax = fig.add_subplot(111, projection='3d')\n",
    "\n",
    "# Choose the axes.\n",
    "ax.plot(xs, zs, targets)\n",
    "\n",
    "# Set labels\n",
    "ax.set_xlabel('xs')\n",
    "ax.set_ylabel('zs')\n",
    "ax.set_zlabel('Targets')\n",
    "\n",
    "ax.view_init(azim=100)\n",
    "\n",
    "targets = targets.reshape(observations,1)"
   ]
  },
  {
   "cell_type": "code",
   "execution_count": 5,
   "id": "8796b2ff",
   "metadata": {},
   "outputs": [
    {
     "name": "stdout",
     "output_type": "stream",
     "text": [
      "[[-0.04148206]\n",
      " [-0.0730036 ]]\n",
      "[-0.04939404]\n"
     ]
    }
   ],
   "source": [
    "## Initialize variables\n",
    "\n",
    "# High initial ranges may prevent the machine learning algorithm from learning.\n",
    "init_range = 0.1\n",
    "\n",
    "# Weights are of size k x m\n",
    "# k is the number of input variables and m is the number of output variables\n",
    "weights = np.random.uniform(low=-init_range, high=init_range, size=(2, 1))\n",
    "\n",
    "# Biases are of size 1 since there is only 1 output. The bias is a scalar.\n",
    "biases = np.random.uniform(low=-init_range, high=init_range, size=1)\n",
    "\n",
    "#Print the weights to get a sense of how they were initialized.\n",
    "print (weights)\n",
    "print (biases)"
   ]
  },
  {
   "cell_type": "markdown",
   "id": "aaa6243d",
   "metadata": {},
   "source": [
    "## Set a learning rate"
   ]
  },
  {
   "cell_type": "code",
   "execution_count": 6,
   "id": "75d5174a",
   "metadata": {},
   "outputs": [],
   "source": [
    "learning_rate = 0.02"
   ]
  },
  {
   "cell_type": "markdown",
   "id": "a5f7504b",
   "metadata": {},
   "source": [
    "## Train the model"
   ]
  },
  {
   "cell_type": "code",
   "execution_count": 7,
   "id": "0382644a",
   "metadata": {},
   "outputs": [
    {
     "name": "stdout",
     "output_type": "stream",
     "text": [
      "221102.56258843234\n",
      "5063133.678677837\n",
      "1753196737.6547785\n",
      "632858418569.3483\n",
      "228472306422364.5\n",
      "8.248229032393166e+16\n",
      "2.9777474258285617e+19\n",
      "1.0750161879874608e+22\n",
      "3.880986662639919e+24\n",
      "1.401100527033611e+27\n",
      "5.0582051872307375e+29\n",
      "1.8260959311961095e+32\n",
      "6.592509055087628e+34\n",
      "2.380005064298285e+37\n",
      "8.592212856672658e+39\n",
      "3.101931289215042e+42\n",
      "1.1198486214804267e+45\n",
      "4.042839180196529e+47\n",
      "1.4595319691803417e+50\n",
      "5.269152380570066e+52\n",
      "1.9022513652276583e+55\n",
      "6.867442797543468e+57\n",
      "2.479260703376463e+60\n",
      "8.950542169066884e+62\n",
      "3.2312941116334105e+65\n",
      "1.1665507450444498e+68\n",
      "4.211441588880497e+70\n",
      "1.5204002339286556e+73\n",
      "5.48889690749526e+75\n",
      "1.9815827825323003e+78\n",
      "7.153842366152788e+80\n",
      "2.582655695784853e+83\n",
      "9.323815233235306e+85\n",
      "3.366051876190649e+88\n",
      "1.215200532161879e+91\n",
      "4.387075385890086e+93\n",
      "1.5838069464339886e+96\n",
      "5.717805651665653e+98\n",
      "2.064222634193521e+101\n",
      "7.452185931285658e+103\n",
      "2.6903626689545076e+106\n",
      "9.712655262823419e+108\n",
      "3.506429573344877e+111\n",
      "1.265879208118154e+114\n",
      "4.570033807971861e+116\n",
      "1.6498579700233476e+119\n",
      "5.956260797242494e+121\n",
      "2.1503088950296575e+124\n",
      "7.762971604910771e+126\n",
      "2.802561449564194e+129\n",
      "1.0117711461954546e+132\n",
      "3.6526615765475935e+134\n",
      "1.3186713856148782e+137\n",
      "4.760622321006337e+139\n",
      "1.7186635829438299e+142\n",
      "6.204660466980564e+144\n",
      "2.2399852939555582e+147\n",
      "8.086718272239157e+149\n",
      "2.919439363777539e+152\n",
      "1.053966010913573e+155\n",
      "3.804992033551671e+157\n",
      "1.3736652060385e+160\n",
      "4.9591591300112725e+162\n",
      "1.7903386624822818e+165\n",
      "6.463419386930542e+167\n",
      "2.3334015539511392e+170\n",
      "8.423966458050455e+172\n",
      "3.0411915500012154e+175\n",
      "1.0979205686366462e+178\n",
      "3.963675274038347e+180\n",
      "1.4309524866204026e+183\n",
      "5.165975710414125e+185\n",
      "1.8650028767634555e+188\n",
      "6.7329695788622665e+190\n",
      "2.4307136420376888e+193\n",
      "8.775279229148878e+195\n",
      "3.168021284686471e+198\n",
      "1.1437082055336438e+201\n",
      "4.128976234244091e+203\n",
      "1.4906288737342649e+206\n",
      "5.381417361480813e+208\n",
      "1.9427808845469698e+211\n",
      "7.013761081564779e+213\n",
      "2.5320840296791238e+216\n",
      "9.141243134454877e+218\n",
      "3.30014032171782e+221\n",
      "1.191405368267484e+224\n",
      "4.3011708992959275e+226\n",
      "1.5527940025864197e+229\n",
      "5.6058437828244556e+231\n",
      "2.023802543356524e+234\n",
      "7.306262702227362e+236\n",
      "2.6376819640430007e+239\n",
      "9.52246918430231e+241\n",
      "3.4377692459555757e+244\n",
      "1.2410916916297525e+247\n",
      "4.480546763993911e+249\n",
      "1.6175516635659856e+252\n",
      "5.839629674956874e+254\n",
      "2.108203126288948e+257\n"
     ]
    }
   ],
   "source": [
    "# Loop to calculate the outputs and compare them to the targets\n",
    "for i in range(100):\n",
    "    \n",
    "    # np.dot(A,B) is a method used for multiplying matrices.\n",
    "    outputs = np.dot(inputs,weights) + biases\n",
    "    \n",
    "    # deltas record the difference between outputs and targets\n",
    "    deltas = outputs - targets\n",
    "    \n",
    "    # np.sum(a) is the method that allows us to sum all the values in the array\n",
    "    loss = np.sum(deltas ** 2) / 2 / observations\n",
    "    \n",
    "    print(loss)\n",
    "    \n",
    "    deltas_scaled = deltas / observations\n",
    "    \n",
    "    # The weights are updated in a linear algebraic way\n",
    "    weights = weights - learning_rate * np.dot(inputs.T,deltas_scaled)\n",
    "    \n",
    "    biases = biases - learning_rate * np.sum(deltas_scaled)"
   ]
  },
  {
   "cell_type": "markdown",
   "id": "b91986ca",
   "metadata": {},
   "source": [
    "## Print weight and biases and see if we have worked correctly"
   ]
  },
  {
   "cell_type": "code",
   "execution_count": 8,
   "id": "7851b0b4",
   "metadata": {},
   "outputs": [
    {
     "name": "stdout",
     "output_type": "stream",
     "text": [
      "[[3.83343469e+124 3.83343469e+124 3.83343469e+124 ... 3.83343469e+124\n",
      "  3.83343469e+124 3.83343469e+124]\n",
      " [4.43340543e+124 4.43340543e+124 4.43340543e+124 ... 4.43340543e+124\n",
      "  4.43340543e+124 4.43340543e+124]] [-3.90144205e+128]\n"
     ]
    }
   ],
   "source": [
    "print(weights,biases)"
   ]
  },
  {
   "cell_type": "markdown",
   "id": "048abb91",
   "metadata": {},
   "source": [
    "## Plot last output vs target\n",
    "\n",
    "Since they are the last at the end of the training, they represent the fianl model accuracy.\n",
    "\n",
    "The closer this plot a 45 degree line, the closer target output values are"
   ]
  },
  {
   "cell_type": "code",
   "execution_count": 9,
   "id": "cb754773",
   "metadata": {},
   "outputs": [
    {
     "data": {
      "image/png": "[encoded data removed]",
      "text/plain": [
       "<Figure size 432x288 with 1 Axes>"
      ]
     },
     "metadata": {
      "needs_background": "light"
     },
     "output_type": "display_data"
    }
   ],
   "source": [
    "# Create graph\n",
    "plt.plot(outputs,targets)\n",
    "\n",
    "# x and y labels\n",
    "plt.xlabel('outputs')\n",
    "plt.ylabel('targets')\n",
    "\n",
    "#Print graph\n",
    "plt.show()"
   ]
  }
 ],
 "metadata": {
  "kernelspec": {
   "display_name": "Python 3 (ipykernel)",
   "language": "python",
   "name": "python3"
  },
  "language_info": {
   "codemirror_mode": {
    "name": "ipython",
    "version": 3
   },
   "file_extension": ".py",
   "mimetype": "text/x-python",
   "name": "python",
   "nbconvert_exporter": "python",
   "pygments_lexer": "ipython3",
   "version": "3.9.7"
  }
 },
 "nbformat": 4,
 "nbformat_minor": 5
}
