{
 "cells": [
  {
   "cell_type": "markdown",
   "id": "329be742",
   "metadata": {},
   "source": [
    "# Audiobooks business case\n",
    "\n",
    "### Problem\n",
    "\n",
    "You are given data from an Audiobook App. Logically, it relates to the audio versions of books ONLY. Each customer in the database has made a purchase at least once, that's why he/she is in the database. We want to create a machine learning algorithm based on our available data that can predict if a customer will buy again from the Audiobook company.\n",
    "\n",
    "The main idea is that if a customer has a low probability of coming back, there is no reason to spend any money on advertising to him/her. If we can focus our efforts SOLELY on customers that are likely to convert again, we can make great savings. Moreover, this model can identify the most important metrics for a customer to come back again. Identifying new customers creates value and growth opportunities.\n",
    "\n",
    "You have a .csv summarizing the data. There are several variables: Customer ID, ), Book length overall (sum of the minute length of all purchases), Book length avg (average length in minutes of all purchases), Price paid_overall (sum of all purchases) ,Price Paid avg (average of all purchases), Review (a Boolean variable whether the customer left a review), Review out of 10 (if the customer left a review, his/her review out of 10, Total minutes listened, Completion (from 0 to 1), Support requests (number of support requests; everything from forgotten password to assistance for using the App), and Last visited minus purchase date (in days).\n",
    "\n",
    "These are the inputs (excluding customer ID, as it is completely arbitrary. It's more like a name, than a number).\n",
    "\n",
    "The targets are a Boolean variable (0 or 1). We are taking a period of 2 years in our inputs, and the next 6 months as targets. So, in fact, we are predicting if: based on the last 2 years of activity and engagement, a customer will convert in the next 6 months. 6 months sounds like a reasonable time. If they don't convert after 6 months, chances are they've gone to a competitor or didn't like the Audiobook way of digesting information.\n",
    "\n",
    "The task is simple: create a machine learning algorithm, which is able to predict if a customer will buy again.\n",
    "\n",
    "This is a classification problem with two classes: won't buy and will buy, represented by 0s and 1s.\n",
    "\n",
    "Good luck!"
   ]
  },
  {
   "cell_type": "markdown",
   "id": "ddce9678",
   "metadata": {},
   "source": [
    "## Create the Machine Learning Algorithm"
   ]
  },
  {
   "cell_type": "markdown",
   "id": "f09a6342",
   "metadata": {},
   "source": [
    "## Import the relevant libraries"
   ]
  },
  {
   "cell_type": "code",
   "execution_count": 1,
   "id": "6f0821c2",
   "metadata": {},
   "outputs": [
    {
     "name": "stderr",
     "output_type": "stream",
     "text": [
      "C:\\Users\\serch\\anaconda3\\lib\\site-packages\\scipy\\__init__.py:146: UserWarning: A NumPy version >=1.16.5 and <1.23.0 is required for this version of SciPy (detected version 1.26.4\n",
      "  warnings.warn(f\"A NumPy version >={np_minversion} and <{np_maxversion}\"\n"
     ]
    },
    {
     "name": "stdout",
     "output_type": "stream",
     "text": [
      "WARNING:tensorflow:From C:\\Users\\serch\\anaconda3\\lib\\site-packages\\keras\\src\\losses.py:2976: The name tf.losses.sparse_softmax_cross_entropy is deprecated. Please use tf.compat.v1.losses.sparse_softmax_cross_entropy instead.\n",
      "\n"
     ]
    }
   ],
   "source": [
    "import numpy as np\n",
    "import tensorflow as tf"
   ]
  },
  {
   "cell_type": "markdown",
   "id": "29916d9e",
   "metadata": {},
   "source": [
    "## Data"
   ]
  },
  {
   "cell_type": "code",
   "execution_count": 2,
   "id": "08811057",
   "metadata": {},
   "outputs": [],
   "source": [
    "# Load data\n",
    "npz = np.load('Audiobooks_data_train.npz')\n",
    "\n",
    "# np.ndarray.astype() creates a copy of the array, cast a specific type\n",
    "train_inputs = npz['inputs'].astype(float)\n",
    "# Extract train target\n",
    "train_targets = npz['targets'].astype(int)\n",
    "\n",
    "# Validation & Test\n",
    "npz = np.load('Audiobooks_data_validation.npz')\n",
    "# Extract validitaion inputs and targets\n",
    "validation_inputs, validation_targets = npz['inputs'].astype(float), npz['targets'].astype(int)\n",
    "\n",
    "# Test data\n",
    "npz = np.load('Audiobooks_data_test.npz')\n",
    "# Extract validitaion inputs and targets\n",
    "test_inputs, test_targets = npz['inputs'].astype(float), npz['targets'].astype(int)"
   ]
  },
  {
   "cell_type": "markdown",
   "id": "daf74088",
   "metadata": {},
   "source": [
    "## Model\n",
    "Outline, optimizer, loss, early and training"
   ]
  },
  {
   "cell_type": "code",
   "execution_count": 3,
   "id": "40477a66",
   "metadata": {},
   "outputs": [
    {
     "name": "stdout",
     "output_type": "stream",
     "text": [
      "WARNING:tensorflow:From C:\\Users\\serch\\anaconda3\\lib\\site-packages\\keras\\src\\backend.py:873: The name tf.get_default_graph is deprecated. Please use tf.compat.v1.get_default_graph instead.\n",
      "\n",
      "WARNING:tensorflow:From C:\\Users\\serch\\anaconda3\\lib\\site-packages\\keras\\src\\optimizers\\__init__.py:309: The name tf.train.Optimizer is deprecated. Please use tf.compat.v1.train.Optimizer instead.\n",
      "\n",
      "Epoch 1/100\n",
      "WARNING:tensorflow:From C:\\Users\\serch\\anaconda3\\lib\\site-packages\\keras\\src\\utils\\tf_utils.py:492: The name tf.ragged.RaggedTensorValue is deprecated. Please use tf.compat.v1.ragged.RaggedTensorValue instead.\n",
      "\n",
      "WARNING:tensorflow:From C:\\Users\\serch\\anaconda3\\lib\\site-packages\\keras\\src\\engine\\base_layer_utils.py:384: The name tf.executing_eagerly_outside_functions is deprecated. Please use tf.compat.v1.executing_eagerly_outside_functions instead.\n",
      "\n",
      "36/36 - 1s - loss: 0.6174 - accuracy: 0.6597 - val_loss: 0.5240 - val_accuracy: 0.7405 - 1s/epoch - 28ms/step\n",
      "Epoch 2/100\n",
      "36/36 - 0s - loss: 0.4745 - accuracy: 0.7589 - val_loss: 0.4374 - val_accuracy: 0.7875 - 78ms/epoch - 2ms/step\n",
      "Epoch 3/100\n",
      "36/36 - 0s - loss: 0.4136 - accuracy: 0.7801 - val_loss: 0.3984 - val_accuracy: 0.8031 - 83ms/epoch - 2ms/step\n",
      "Epoch 4/100\n",
      "36/36 - 0s - loss: 0.3845 - accuracy: 0.7896 - val_loss: 0.3820 - val_accuracy: 0.7785 - 69ms/epoch - 2ms/step\n",
      "Epoch 5/100\n",
      "36/36 - 0s - loss: 0.3674 - accuracy: 0.8033 - val_loss: 0.3732 - val_accuracy: 0.7875 - 73ms/epoch - 2ms/step\n",
      "Epoch 6/100\n",
      "36/36 - 0s - loss: 0.3551 - accuracy: 0.8097 - val_loss: 0.3635 - val_accuracy: 0.8121 - 72ms/epoch - 2ms/step\n",
      "Epoch 7/100\n",
      "36/36 - 0s - loss: 0.3486 - accuracy: 0.8075 - val_loss: 0.3569 - val_accuracy: 0.8031 - 71ms/epoch - 2ms/step\n",
      "Epoch 8/100\n",
      "36/36 - 0s - loss: 0.3429 - accuracy: 0.8161 - val_loss: 0.3562 - val_accuracy: 0.8098 - 71ms/epoch - 2ms/step\n",
      "Epoch 9/100\n",
      "36/36 - 0s - loss: 0.3365 - accuracy: 0.8142 - val_loss: 0.3521 - val_accuracy: 0.8076 - 69ms/epoch - 2ms/step\n",
      "Epoch 10/100\n",
      "36/36 - 0s - loss: 0.3326 - accuracy: 0.8117 - val_loss: 0.3528 - val_accuracy: 0.8009 - 69ms/epoch - 2ms/step\n",
      "Epoch 11/100\n",
      "36/36 - 0s - loss: 0.3376 - accuracy: 0.8164 - val_loss: 0.3513 - val_accuracy: 0.8009 - 70ms/epoch - 2ms/step\n",
      "Epoch 12/100\n",
      "36/36 - 0s - loss: 0.3301 - accuracy: 0.8231 - val_loss: 0.3642 - val_accuracy: 0.8098 - 72ms/epoch - 2ms/step\n",
      "Epoch 13/100\n",
      "36/36 - 0s - loss: 0.3280 - accuracy: 0.8209 - val_loss: 0.3480 - val_accuracy: 0.8121 - 73ms/epoch - 2ms/step\n",
      "Epoch 14/100\n",
      "36/36 - 0s - loss: 0.3240 - accuracy: 0.8254 - val_loss: 0.3485 - val_accuracy: 0.8031 - 70ms/epoch - 2ms/step\n",
      "Epoch 15/100\n",
      "36/36 - 0s - loss: 0.3233 - accuracy: 0.8240 - val_loss: 0.3464 - val_accuracy: 0.8054 - 71ms/epoch - 2ms/step\n",
      "Epoch 16/100\n",
      "36/36 - 0s - loss: 0.3218 - accuracy: 0.8220 - val_loss: 0.3541 - val_accuracy: 0.7987 - 72ms/epoch - 2ms/step\n",
      "Epoch 17/100\n",
      "36/36 - 0s - loss: 0.3252 - accuracy: 0.8229 - val_loss: 0.3444 - val_accuracy: 0.8098 - 74ms/epoch - 2ms/step\n",
      "Epoch 18/100\n",
      "36/36 - 0s - loss: 0.3178 - accuracy: 0.8243 - val_loss: 0.3448 - val_accuracy: 0.8121 - 72ms/epoch - 2ms/step\n",
      "Epoch 19/100\n",
      "36/36 - 0s - loss: 0.3157 - accuracy: 0.8262 - val_loss: 0.3487 - val_accuracy: 0.7964 - 73ms/epoch - 2ms/step\n"
     ]
    },
    {
     "data": {
      "text/plain": [
       "<keras.src.callbacks.History at 0x29bcb600e80>"
      ]
     },
     "execution_count": 3,
     "metadata": {},
     "output_type": "execute_result"
    }
   ],
   "source": [
    "# Input and Output sizes\n",
    "input_size = 10\n",
    "output_size = 2\n",
    "\n",
    "# Hidden layer size for both hidden layers\n",
    "hidden_layer_size = 50\n",
    "\n",
    "\n",
    "model = tf.keras.Sequential([\n",
    "    \n",
    "    # tf.keras.layers.Dense is basically implementing: output = activation(dot(input, weight) + bias)\n",
    "    # it takes several arguments, but the most important ones for us are the hidden_layer_size and the activation function\n",
    "    tf.keras.layers.Dense(hidden_layer_size, activation='relu'), # 1st hidden layer\n",
    "    \n",
    "    tf.keras.layers.Dense(hidden_layer_size, activation='relu'), # 2nd hidden layer\n",
    "    \n",
    "    # the final layer is no different, we just make sure to activate it with softmax\n",
    "    tf.keras.layers.Dense(output_size, activation='softmax') # output layer\n",
    "])\n",
    "\n",
    "# Optimizer\n",
    "model.compile(optimizer='adam', loss='sparse_categorical_crossentropy', metrics=['accuracy'])\n",
    "\n",
    "# Batch size\n",
    "batch_size = 100\n",
    "\n",
    "# Training Epochs\n",
    "max_epochs = 100\n",
    "\n",
    "# Early stopping mechanism\n",
    "# tf.keras.callbacks.EarlyStopping(patience) configure the early stopping mechanism o the algorithm. 'patience' let us decide how many cosecutive increase we can tolerate\n",
    "early_stopping = tf.keras.callbacks.EarlyStopping(patience=2) # Set patience=2, to be a bit tolerant against random validation loss increases\n",
    "\n",
    "## Fit the Model\n",
    "model.fit(train_inputs, # train inputs (input first)\n",
    "          train_targets, # train targets\n",
    "          batch_size=batch_size, # batch size\n",
    "          epochs=max_epochs, # epochs that we will train for\n",
    "          callbacks=[early_stopping], # early stopping\n",
    "          validation_data=(validation_inputs, validation_targets), # validation data\n",
    "          verbose = 2 # making sure we get enough information about the training process\n",
    "          )  "
   ]
  },
  {
   "cell_type": "markdown",
   "id": "76906663",
   "metadata": {},
   "source": [
    "## Test Model\n",
    "\n",
    "It is very important to realize that fiddling with the hyperparameters overfits the validation dataset.\n",
    "\n",
    "The test is the absolute final instance. You should not test before you are completely done with adjusting your model.\n",
    "\n",
    "If you adjust your model after testing, you will start overfitting the test dataset, which will defeat its purpose."
   ]
  },
  {
   "cell_type": "code",
   "execution_count": 4,
   "id": "bd095ea7",
   "metadata": {},
   "outputs": [
    {
     "name": "stdout",
     "output_type": "stream",
     "text": [
      "14/14 [==============================] - 0s 2ms/step - loss: 0.3587 - accuracy: 0.8192\n"
     ]
    }
   ],
   "source": [
    "# model.evaluate return loss value and metrics values for the model in 'test model'\n",
    "test_loss, test_accuracy = model.evaluate(test_inputs, test_targets)"
   ]
  },
  {
   "cell_type": "code",
   "execution_count": 5,
   "id": "8ada423d",
   "metadata": {},
   "outputs": [
    {
     "name": "stdout",
     "output_type": "stream",
     "text": [
      "\n",
      "Test loss: 0.36. Test accuracy: 81.92%\n"
     ]
    }
   ],
   "source": [
    "print('\\nTest loss: {0:.2f}. Test accuracy: {1:.2f}%'.format(test_loss, test_accuracy*100.))"
   ]
  }
 ],
 "metadata": {
  "kernelspec": {
   "display_name": "Python 3 (ipykernel)",
   "language": "python",
   "name": "python3"
  },
  "language_info": {
   "codemirror_mode": {
    "name": "ipython",
    "version": 3
   },
   "file_extension": ".py",
   "mimetype": "text/x-python",
   "name": "python",
   "nbconvert_exporter": "python",
   "pygments_lexer": "ipython3",
   "version": "3.9.7"
  }
 },
 "nbformat": 4,
 "nbformat_minor": 5
}
